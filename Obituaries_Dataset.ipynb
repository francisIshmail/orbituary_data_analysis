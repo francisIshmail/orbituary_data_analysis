{
 "cells": [
  {
   "cell_type": "code",
   "execution_count": 19,
   "metadata": {},
   "outputs": [
    {
     "data": {
      "text/html": [
       "<div>\n",
       "<style scoped>\n",
       "    .dataframe tbody tr th:only-of-type {\n",
       "        vertical-align: middle;\n",
       "    }\n",
       "\n",
       "    .dataframe tbody tr th {\n",
       "        vertical-align: top;\n",
       "    }\n",
       "\n",
       "    .dataframe thead th {\n",
       "        text-align: right;\n",
       "    }\n",
       "</style>\n",
       "<table border=\"1\" class=\"dataframe\">\n",
       "  <thead>\n",
       "    <tr style=\"text-align: right;\">\n",
       "      <th></th>\n",
       "      <th>Name</th>\n",
       "      <th>Announcement</th>\n",
       "      <th>Death</th>\n",
       "      <th>Burial</th>\n",
       "      <th>Burial_Day</th>\n",
       "      <th>Burial_Week</th>\n",
       "      <th>Gender</th>\n",
       "      <th>Age</th>\n",
       "      <th>Color</th>\n",
       "      <th>Size</th>\n",
       "      <th>...</th>\n",
       "      <th>Morgue</th>\n",
       "      <th>Same_Morgue</th>\n",
       "      <th>Cost_Morgue</th>\n",
       "      <th>Occupation</th>\n",
       "      <th>Repetition</th>\n",
       "      <th>Corporate</th>\n",
       "      <th>Corporate_Name</th>\n",
       "      <th>Residence</th>\n",
       "      <th>Residence_Name</th>\n",
       "      <th>Residence_Category</th>\n",
       "    </tr>\n",
       "  </thead>\n",
       "  <tbody>\n",
       "    <tr>\n",
       "      <th>0</th>\n",
       "      <td>Eng. Paul Chemweno</td>\n",
       "      <td>11/8/2017</td>\n",
       "      <td>11/2/2017</td>\n",
       "      <td>11/17/2017</td>\n",
       "      <td>Friday</td>\n",
       "      <td>Weekday</td>\n",
       "      <td>Male</td>\n",
       "      <td>66.0</td>\n",
       "      <td>Yes</td>\n",
       "      <td>55.18</td>\n",
       "      <td>...</td>\n",
       "      <td>MTRH Eldoret</td>\n",
       "      <td>No</td>\n",
       "      <td>NaN</td>\n",
       "      <td>Director</td>\n",
       "      <td>NaN</td>\n",
       "      <td>NaN</td>\n",
       "      <td>NaN</td>\n",
       "      <td>NaN</td>\n",
       "      <td>NaN</td>\n",
       "      <td>NaN</td>\n",
       "    </tr>\n",
       "    <tr>\n",
       "      <th>1</th>\n",
       "      <td>Edith Kiende Kiogora</td>\n",
       "      <td>11/8/2017</td>\n",
       "      <td>10/27/2017</td>\n",
       "      <td>11/11/2017</td>\n",
       "      <td>Saturday</td>\n",
       "      <td>Weekend</td>\n",
       "      <td>Female</td>\n",
       "      <td>43.0</td>\n",
       "      <td>Yes</td>\n",
       "      <td>83.60</td>\n",
       "      <td>...</td>\n",
       "      <td>Chogoria Hospital Mortuary</td>\n",
       "      <td>No</td>\n",
       "      <td>NaN</td>\n",
       "      <td>Teacher</td>\n",
       "      <td>NaN</td>\n",
       "      <td>NaN</td>\n",
       "      <td>NaN</td>\n",
       "      <td>NaN</td>\n",
       "      <td>NaN</td>\n",
       "      <td>NaN</td>\n",
       "    </tr>\n",
       "    <tr>\n",
       "      <th>2</th>\n",
       "      <td>Simon Muchiri Ngigii Mbaria</td>\n",
       "      <td>11/8/2017</td>\n",
       "      <td>11/1/2017</td>\n",
       "      <td>11/8/2017</td>\n",
       "      <td>Wednesday</td>\n",
       "      <td>Weekday</td>\n",
       "      <td>Male</td>\n",
       "      <td>35.0</td>\n",
       "      <td>Yes</td>\n",
       "      <td>109.12</td>\n",
       "      <td>...</td>\n",
       "      <td>Umash Nakuru</td>\n",
       "      <td>No</td>\n",
       "      <td>NaN</td>\n",
       "      <td>Teacher</td>\n",
       "      <td>NaN</td>\n",
       "      <td>NaN</td>\n",
       "      <td>NaN</td>\n",
       "      <td>NaN</td>\n",
       "      <td>NaN</td>\n",
       "      <td>NaN</td>\n",
       "    </tr>\n",
       "    <tr>\n",
       "      <th>3</th>\n",
       "      <td>Mwalimu Erick Namusasi Werunga</td>\n",
       "      <td>11/8/2017</td>\n",
       "      <td>10/24/2017</td>\n",
       "      <td>11/9/2017</td>\n",
       "      <td>Thursday</td>\n",
       "      <td>Weekday</td>\n",
       "      <td>Male</td>\n",
       "      <td>54.0</td>\n",
       "      <td>Yes</td>\n",
       "      <td>83.60</td>\n",
       "      <td>...</td>\n",
       "      <td>Maida Mortuary</td>\n",
       "      <td>NaN</td>\n",
       "      <td>NaN</td>\n",
       "      <td>Teacher</td>\n",
       "      <td>NaN</td>\n",
       "      <td>NaN</td>\n",
       "      <td>NaN</td>\n",
       "      <td>NaN</td>\n",
       "      <td>NaN</td>\n",
       "      <td>NaN</td>\n",
       "    </tr>\n",
       "    <tr>\n",
       "      <th>4</th>\n",
       "      <td>Catherine Mueni Sina</td>\n",
       "      <td>11/8/2017</td>\n",
       "      <td>11/2/2017</td>\n",
       "      <td>11/11/2017</td>\n",
       "      <td>Saturday</td>\n",
       "      <td>Weekend</td>\n",
       "      <td>Female</td>\n",
       "      <td>41.0</td>\n",
       "      <td>No</td>\n",
       "      <td>55.18</td>\n",
       "      <td>...</td>\n",
       "      <td>NaN</td>\n",
       "      <td>NaN</td>\n",
       "      <td>NaN</td>\n",
       "      <td>NaN</td>\n",
       "      <td>NaN</td>\n",
       "      <td>NaN</td>\n",
       "      <td>NaN</td>\n",
       "      <td>NaN</td>\n",
       "      <td>NaN</td>\n",
       "      <td>NaN</td>\n",
       "    </tr>\n",
       "  </tbody>\n",
       "</table>\n",
       "<p>5 rows × 39 columns</p>\n",
       "</div>"
      ],
      "text/plain": [
       "                             Name Announcement       Death      Burial  \\\n",
       "0              Eng. Paul Chemweno    11/8/2017   11/2/2017  11/17/2017   \n",
       "1            Edith Kiende Kiogora    11/8/2017  10/27/2017  11/11/2017   \n",
       "2     Simon Muchiri Ngigii Mbaria    11/8/2017   11/1/2017   11/8/2017   \n",
       "3  Mwalimu Erick Namusasi Werunga    11/8/2017  10/24/2017   11/9/2017   \n",
       "4            Catherine Mueni Sina    11/8/2017   11/2/2017  11/11/2017   \n",
       "\n",
       "  Burial_Day Burial_Week  Gender   Age Color    Size        ...          \\\n",
       "0     Friday     Weekday    Male  66.0   Yes   55.18        ...           \n",
       "1   Saturday     Weekend  Female  43.0   Yes   83.60        ...           \n",
       "2  Wednesday     Weekday    Male  35.0   Yes  109.12        ...           \n",
       "3   Thursday     Weekday    Male  54.0   Yes   83.60        ...           \n",
       "4   Saturday     Weekend  Female  41.0    No   55.18        ...           \n",
       "\n",
       "                       Morgue  Same_Morgue  Cost_Morgue  Occupation  \\\n",
       "0                MTRH Eldoret           No          NaN    Director   \n",
       "1  Chogoria Hospital Mortuary           No          NaN     Teacher   \n",
       "2                Umash Nakuru           No          NaN     Teacher   \n",
       "3              Maida Mortuary          NaN          NaN     Teacher   \n",
       "4                         NaN          NaN          NaN         NaN   \n",
       "\n",
       "  Repetition Corporate Corporate_Name Residence Residence_Name  \\\n",
       "0        NaN       NaN            NaN       NaN            NaN   \n",
       "1        NaN       NaN            NaN       NaN            NaN   \n",
       "2        NaN       NaN            NaN       NaN            NaN   \n",
       "3        NaN       NaN            NaN       NaN            NaN   \n",
       "4        NaN       NaN            NaN       NaN            NaN   \n",
       "\n",
       "  Residence_Category  \n",
       "0                NaN  \n",
       "1                NaN  \n",
       "2                NaN  \n",
       "3                NaN  \n",
       "4                NaN  \n",
       "\n",
       "[5 rows x 39 columns]"
      ]
     },
     "execution_count": 19,
     "metadata": {},
     "output_type": "execute_result"
    }
   ],
   "source": [
    "# Load Pandas liabrary\n",
    "import pandas as pd\n",
    "import matplotlib.pyplot as plt\n",
    "import math\n",
    "import lifelines\n",
    "import pandas_ml \n",
    "import numpy as np\n",
    "\n",
    "\n",
    "# Reading data from Obituaries_Dataset.csv\n",
    "data = pd.read_csv(\"Obituaries_Dataset.csv\")\n",
    "\n",
    "# Preview the first 5 lines of loaded data\n",
    "data.head()\n"
   ]
  },
  {
   "cell_type": "code",
   "execution_count": 5,
   "metadata": {},
   "outputs": [
    {
     "data": {
      "text/html": [
       "<div>\n",
       "<style scoped>\n",
       "    .dataframe tbody tr th:only-of-type {\n",
       "        vertical-align: middle;\n",
       "    }\n",
       "\n",
       "    .dataframe tbody tr th {\n",
       "        vertical-align: top;\n",
       "    }\n",
       "\n",
       "    .dataframe thead th {\n",
       "        text-align: right;\n",
       "    }\n",
       "</style>\n",
       "<table border=\"1\" class=\"dataframe\">\n",
       "  <thead>\n",
       "    <tr style=\"text-align: right;\">\n",
       "      <th></th>\n",
       "      <th>Gender</th>\n",
       "      <th>Age</th>\n",
       "      <th>Color</th>\n",
       "      <th>Fundraising</th>\n",
       "      <th>Spouse_Alive</th>\n",
       "      <th>Spouse_gender</th>\n",
       "    </tr>\n",
       "  </thead>\n",
       "  <tbody>\n",
       "    <tr>\n",
       "      <th>0</th>\n",
       "      <td>Male</td>\n",
       "      <td>66.0</td>\n",
       "      <td>Yes</td>\n",
       "      <td>Yes</td>\n",
       "      <td>Yes</td>\n",
       "      <td>Female</td>\n",
       "    </tr>\n",
       "    <tr>\n",
       "      <th>1</th>\n",
       "      <td>Female</td>\n",
       "      <td>43.0</td>\n",
       "      <td>Yes</td>\n",
       "      <td>Yes</td>\n",
       "      <td>Yes</td>\n",
       "      <td>Male</td>\n",
       "    </tr>\n",
       "    <tr>\n",
       "      <th>2</th>\n",
       "      <td>Male</td>\n",
       "      <td>35.0</td>\n",
       "      <td>Yes</td>\n",
       "      <td>No</td>\n",
       "      <td>Yes</td>\n",
       "      <td>Female</td>\n",
       "    </tr>\n",
       "    <tr>\n",
       "      <th>3</th>\n",
       "      <td>Male</td>\n",
       "      <td>54.0</td>\n",
       "      <td>Yes</td>\n",
       "      <td>No</td>\n",
       "      <td>No</td>\n",
       "      <td>Female</td>\n",
       "    </tr>\n",
       "    <tr>\n",
       "      <th>4</th>\n",
       "      <td>Female</td>\n",
       "      <td>41.0</td>\n",
       "      <td>No</td>\n",
       "      <td>NaN</td>\n",
       "      <td>NaN</td>\n",
       "      <td>Male</td>\n",
       "    </tr>\n",
       "  </tbody>\n",
       "</table>\n",
       "</div>"
      ],
      "text/plain": [
       "   Gender   Age Color Fundraising Spouse_Alive Spouse_gender\n",
       "0    Male  66.0   Yes         Yes          Yes        Female\n",
       "1  Female  43.0   Yes         Yes          Yes          Male\n",
       "2    Male  35.0   Yes          No          Yes        Female\n",
       "3    Male  54.0   Yes          No           No        Female\n",
       "4  Female  41.0    No         NaN          NaN          Male"
      ]
     },
     "execution_count": 5,
     "metadata": {},
     "output_type": "execute_result"
    }
   ],
   "source": [
    "# Selecting Rows that I will use in Survival Analysis i.e:  gender, colour, fundraising, spouse alive, spouse gender\n",
    "clean_data = data[['Gender','Age','Color','Fundraising','Spouse_Alive', 'Spouse_gender']]\n",
    "\n",
    "clean_data.head()"
   ]
  },
  {
   "cell_type": "code",
   "execution_count": 6,
   "metadata": {},
   "outputs": [
    {
     "data": {
      "text/html": [
       "<div>\n",
       "<style scoped>\n",
       "    .dataframe tbody tr th:only-of-type {\n",
       "        vertical-align: middle;\n",
       "    }\n",
       "\n",
       "    .dataframe tbody tr th {\n",
       "        vertical-align: top;\n",
       "    }\n",
       "\n",
       "    .dataframe thead th {\n",
       "        text-align: right;\n",
       "    }\n",
       "</style>\n",
       "<table border=\"1\" class=\"dataframe\">\n",
       "  <thead>\n",
       "    <tr style=\"text-align: right;\">\n",
       "      <th></th>\n",
       "      <th>Gender</th>\n",
       "      <th>Age</th>\n",
       "      <th>Color</th>\n",
       "      <th>Fundraising</th>\n",
       "      <th>Spouse_Alive</th>\n",
       "      <th>Spouse_gender</th>\n",
       "    </tr>\n",
       "  </thead>\n",
       "  <tbody>\n",
       "    <tr>\n",
       "      <th>0</th>\n",
       "      <td>Male</td>\n",
       "      <td>66.0</td>\n",
       "      <td>Yes</td>\n",
       "      <td>Yes</td>\n",
       "      <td>Yes</td>\n",
       "      <td>Female</td>\n",
       "    </tr>\n",
       "    <tr>\n",
       "      <th>1</th>\n",
       "      <td>Female</td>\n",
       "      <td>43.0</td>\n",
       "      <td>Yes</td>\n",
       "      <td>Yes</td>\n",
       "      <td>Yes</td>\n",
       "      <td>Male</td>\n",
       "    </tr>\n",
       "    <tr>\n",
       "      <th>2</th>\n",
       "      <td>Male</td>\n",
       "      <td>35.0</td>\n",
       "      <td>Yes</td>\n",
       "      <td>No</td>\n",
       "      <td>Yes</td>\n",
       "      <td>Female</td>\n",
       "    </tr>\n",
       "    <tr>\n",
       "      <th>3</th>\n",
       "      <td>Male</td>\n",
       "      <td>54.0</td>\n",
       "      <td>Yes</td>\n",
       "      <td>No</td>\n",
       "      <td>No</td>\n",
       "      <td>Female</td>\n",
       "    </tr>\n",
       "    <tr>\n",
       "      <th>4</th>\n",
       "      <td>Female</td>\n",
       "      <td>41.0</td>\n",
       "      <td>No</td>\n",
       "      <td>NaN</td>\n",
       "      <td>NaN</td>\n",
       "      <td>Male</td>\n",
       "    </tr>\n",
       "  </tbody>\n",
       "</table>\n",
       "</div>"
      ],
      "text/plain": [
       "   Gender   Age Color Fundraising Spouse_Alive Spouse_gender\n",
       "0    Male  66.0   Yes         Yes          Yes        Female\n",
       "1  Female  43.0   Yes         Yes          Yes          Male\n",
       "2    Male  35.0   Yes          No          Yes        Female\n",
       "3    Male  54.0   Yes          No           No        Female\n",
       "4  Female  41.0    No         NaN          NaN          Male"
      ]
     },
     "execution_count": 6,
     "metadata": {},
     "output_type": "execute_result"
    }
   ],
   "source": [
    "# Saving the dataset I need to CSV\n",
    "clean_data.to_csv('Obituaries_clean_data', encoding='utf-8', index=False)\n",
    "\n",
    "# Display a sample of the clean dataset\n",
    "df = pd.read_csv(\"Obituaries_clean_data\")\n",
    "df.head()"
   ]
  },
  {
   "cell_type": "code",
   "execution_count": 7,
   "metadata": {},
   "outputs": [
    {
     "data": {
      "text/plain": [
       "Male      714\n",
       "Female    577\n",
       "Name: Gender, dtype: int64"
      ]
     },
     "execution_count": 7,
     "metadata": {},
     "output_type": "execute_result"
    }
   ],
   "source": [
    "# We shall plot  Kaplan-meier survival curve using the gender variable in the X axis and Age on the Y axis\n",
    "\n",
    "# Count all the male and female in the total dataset to also ensure that each record has a value.\n",
    "# This will ease plotting survival curve\n",
    "\n",
    "df[\"Gender\"].value_counts(dropna=False)"
   ]
  },
  {
   "cell_type": "code",
   "execution_count": 8,
   "metadata": {},
   "outputs": [
    {
     "data": {
      "text/html": [
       "<div>\n",
       "<style scoped>\n",
       "    .dataframe tbody tr th:only-of-type {\n",
       "        vertical-align: middle;\n",
       "    }\n",
       "\n",
       "    .dataframe tbody tr th {\n",
       "        vertical-align: top;\n",
       "    }\n",
       "\n",
       "    .dataframe thead th {\n",
       "        text-align: right;\n",
       "    }\n",
       "</style>\n",
       "<table border=\"1\" class=\"dataframe\">\n",
       "  <thead>\n",
       "    <tr style=\"text-align: right;\">\n",
       "      <th></th>\n",
       "      <th>Gender</th>\n",
       "      <th>Age</th>\n",
       "      <th>Color</th>\n",
       "      <th>Fundraising</th>\n",
       "      <th>Spouse_Alive</th>\n",
       "      <th>Spouse_gender</th>\n",
       "    </tr>\n",
       "  </thead>\n",
       "  <tbody>\n",
       "    <tr>\n",
       "      <th>0</th>\n",
       "      <td>0</td>\n",
       "      <td>66.0</td>\n",
       "      <td>Yes</td>\n",
       "      <td>Yes</td>\n",
       "      <td>Yes</td>\n",
       "      <td>Female</td>\n",
       "    </tr>\n",
       "    <tr>\n",
       "      <th>1</th>\n",
       "      <td>1</td>\n",
       "      <td>43.0</td>\n",
       "      <td>Yes</td>\n",
       "      <td>Yes</td>\n",
       "      <td>Yes</td>\n",
       "      <td>Male</td>\n",
       "    </tr>\n",
       "    <tr>\n",
       "      <th>2</th>\n",
       "      <td>0</td>\n",
       "      <td>35.0</td>\n",
       "      <td>Yes</td>\n",
       "      <td>No</td>\n",
       "      <td>Yes</td>\n",
       "      <td>Female</td>\n",
       "    </tr>\n",
       "    <tr>\n",
       "      <th>3</th>\n",
       "      <td>0</td>\n",
       "      <td>54.0</td>\n",
       "      <td>Yes</td>\n",
       "      <td>No</td>\n",
       "      <td>No</td>\n",
       "      <td>Female</td>\n",
       "    </tr>\n",
       "    <tr>\n",
       "      <th>4</th>\n",
       "      <td>1</td>\n",
       "      <td>41.0</td>\n",
       "      <td>No</td>\n",
       "      <td>NaN</td>\n",
       "      <td>NaN</td>\n",
       "      <td>Male</td>\n",
       "    </tr>\n",
       "  </tbody>\n",
       "</table>\n",
       "</div>"
      ],
      "text/plain": [
       "   Gender   Age Color Fundraising Spouse_Alive Spouse_gender\n",
       "0       0  66.0   Yes         Yes          Yes        Female\n",
       "1       1  43.0   Yes         Yes          Yes          Male\n",
       "2       0  35.0   Yes          No          Yes        Female\n",
       "3       0  54.0   Yes          No           No        Female\n",
       "4       1  41.0    No         NaN          NaN          Male"
      ]
     },
     "execution_count": 8,
     "metadata": {},
     "output_type": "execute_result"
    }
   ],
   "source": [
    "# We shall convert gender to Binary digits for ease to plot. Male == 0 and Female == 1. We shall use replace function.\n",
    "\n",
    "df1 = df.replace({'Gender': {'Male': 0, 'Female': 1}})\n",
    "\n",
    "df1.head()\n"
   ]
  },
  {
   "cell_type": "code",
   "execution_count": 10,
   "metadata": {},
   "outputs": [
    {
     "data": {
      "text/html": [
       "<div>\n",
       "<style scoped>\n",
       "    .dataframe tbody tr th:only-of-type {\n",
       "        vertical-align: middle;\n",
       "    }\n",
       "\n",
       "    .dataframe tbody tr th {\n",
       "        vertical-align: top;\n",
       "    }\n",
       "\n",
       "    .dataframe thead th {\n",
       "        text-align: right;\n",
       "    }\n",
       "</style>\n",
       "<table border=\"1\" class=\"dataframe\">\n",
       "  <thead>\n",
       "    <tr style=\"text-align: right;\">\n",
       "      <th></th>\n",
       "      <th>Gender</th>\n",
       "      <th>Age</th>\n",
       "      <th>Color</th>\n",
       "      <th>Fundraising</th>\n",
       "      <th>Spouse_Alive</th>\n",
       "      <th>Spouse_gender</th>\n",
       "    </tr>\n",
       "  </thead>\n",
       "  <tbody>\n",
       "    <tr>\n",
       "      <th>0</th>\n",
       "      <td>0</td>\n",
       "      <td>66.0</td>\n",
       "      <td>Yes</td>\n",
       "      <td>Yes</td>\n",
       "      <td>Yes</td>\n",
       "      <td>Female</td>\n",
       "    </tr>\n",
       "    <tr>\n",
       "      <th>1</th>\n",
       "      <td>1</td>\n",
       "      <td>43.0</td>\n",
       "      <td>Yes</td>\n",
       "      <td>Yes</td>\n",
       "      <td>Yes</td>\n",
       "      <td>Male</td>\n",
       "    </tr>\n",
       "    <tr>\n",
       "      <th>2</th>\n",
       "      <td>0</td>\n",
       "      <td>35.0</td>\n",
       "      <td>Yes</td>\n",
       "      <td>No</td>\n",
       "      <td>Yes</td>\n",
       "      <td>Female</td>\n",
       "    </tr>\n",
       "    <tr>\n",
       "      <th>3</th>\n",
       "      <td>0</td>\n",
       "      <td>54.0</td>\n",
       "      <td>Yes</td>\n",
       "      <td>No</td>\n",
       "      <td>No</td>\n",
       "      <td>Female</td>\n",
       "    </tr>\n",
       "    <tr>\n",
       "      <th>4</th>\n",
       "      <td>1</td>\n",
       "      <td>41.0</td>\n",
       "      <td>No</td>\n",
       "      <td>NaN</td>\n",
       "      <td>NaN</td>\n",
       "      <td>Male</td>\n",
       "    </tr>\n",
       "  </tbody>\n",
       "</table>\n",
       "</div>"
      ],
      "text/plain": [
       "   Gender   Age Color Fundraising Spouse_Alive Spouse_gender\n",
       "0       0  66.0   Yes         Yes          Yes        Female\n",
       "1       1  43.0   Yes         Yes          Yes          Male\n",
       "2       0  35.0   Yes          No          Yes        Female\n",
       "3       0  54.0   Yes          No           No        Female\n",
       "4       1  41.0    No         NaN          NaN          Male"
      ]
     },
     "execution_count": 10,
     "metadata": {},
     "output_type": "execute_result"
    }
   ],
   "source": [
    "#Check if all rows of Age are filled.This is because we are plotting Gender against Age and each column needs to be complete\n",
    "\n",
    "df1 = df1[pd.notnull(df['Age'])]\n",
    "\n",
    "df1.to_csv('Obituaries_clean_data_v2', encoding='utf-8', index=False)\n",
    "\n",
    "# Load cleaned data\n",
    "df2 = pd.read_csv(\"Obituaries_clean_data_v2\")\n",
    "df2.head()\n",
    "\n"
   ]
  },
  {
   "cell_type": "code",
   "execution_count": 11,
   "metadata": {},
   "outputs": [
    {
     "data": {
      "text/plain": [
       "84.0"
      ]
     },
     "execution_count": 11,
     "metadata": {},
     "output_type": "execute_result"
    }
   ],
   "source": [
    "from lifelines import KaplanMeierFitter\n",
    "\n",
    "# Now we shall plot a Kaplan-Meier curve using age and gender. \n",
    "# Age is an array of durations lived, gender is a boolean or binary array representing the “gender” \n",
    "# In our lifeline we assume all deaths were observed\n",
    "T = df2['Age']\n",
    "E = df2['Gender']\n",
    "\n",
    "kmf = KaplanMeierFitter()\n",
    "kmf.fit(T, event_observed=E, label = 'Age Distribution')  \n",
    "# This gives the median age when death occurs of the data that had age\n",
    "kmf.median_\n"
   ]
  },
  {
   "cell_type": "code",
   "execution_count": 12,
   "metadata": {},
   "outputs": [
    {
     "data": {
      "image/png": "[encoded data removed]",
      "text/plain": [
       "<Figure size 432x288 with 1 Axes>"
      ]
     },
     "metadata": {
      "needs_background": "light"
     },
     "output_type": "display_data"
    }
   ],
   "source": [
    "kmf.survival_function_.plot()\n",
    "plt.title('Survival function from DN data');\n"
   ]
  },
  {
   "cell_type": "code",
   "execution_count": 13,
   "metadata": {},
   "outputs": [
    {
     "data": {
      "text/plain": [
       "<matplotlib.axes._subplots.AxesSubplot at 0x162c44a2b38>"
      ]
     },
     "execution_count": 13,
     "metadata": {},
     "output_type": "execute_result"
    },
    {
     "data": {
      "image/png": "[encoded data removed]",
      "text/plain": [
       "<Figure size 432x288 with 1 Axes>"
      ]
     },
     "metadata": {
      "needs_background": "light"
     },
     "output_type": "display_data"
    }
   ],
   "source": [
    "kmf.plot()"
   ]
  },
  {
   "cell_type": "code",
   "execution_count": 14,
   "metadata": {},
   "outputs": [
    {
     "data": {
      "image/png": "[encoded data removed]",
      "text/plain": [
       "<Figure size 432x288 with 1 Axes>"
      ]
     },
     "metadata": {
      "needs_background": "light"
     },
     "output_type": "display_data"
    }
   ],
   "source": [
    "ax = plt.subplot(111)\n",
    "male = (df2[\"Gender\"] == 1)\n",
    "\n",
    "kmf.fit(T[male], event_observed=E[male], label=\"Male deaths\")\n",
    "kmf.plot(ax=ax, ci_force_lines=True)\n",
    "\n",
    "kmf.fit(T[~male], event_observed=E[~male], label=\"Female deaths\")\n",
    "kmf.plot(ax=ax, ci_force_lines=True)\n",
    "\n",
    "plt.ylim(0, 1);\n",
    "plt.title(\"Lifespans of different Genders\");"
   ]
  },
  {
   "cell_type": "code",
   "execution_count": 15,
   "metadata": {},
   "outputs": [
    {
     "data": {
      "image/png": "[encoded data removed]",
      "text/plain": [
       "<Figure size 432x288 with 1 Axes>"
      ]
     },
     "metadata": {
      "needs_background": "light"
     },
     "output_type": "display_data"
    }
   ],
   "source": [
    "groups = df2['Gender']\n",
    "ix = (groups == 0)\n",
    "\n",
    "kmf.fit(T[~ix], E[~ix], label='Female')\n",
    "ax = kmf.plot()\n",
    "\n",
    "kmf.fit(T[ix], E[ix], label='Male')\n",
    "ax = kmf.plot(ax=ax)\n",
    "plt.title(\"Lifespans of different Genders\");"
   ]
  },
  {
   "cell_type": "code",
   "execution_count": 38,
   "metadata": {},
   "outputs": [
    {
     "data": {
      "text/html": [
       "<div>\n",
       "<style scoped>\n",
       "    .dataframe tbody tr th:only-of-type {\n",
       "        vertical-align: middle;\n",
       "    }\n",
       "\n",
       "    .dataframe tbody tr th {\n",
       "        vertical-align: top;\n",
       "    }\n",
       "\n",
       "    .dataframe thead th {\n",
       "        text-align: right;\n",
       "    }\n",
       "</style>\n",
       "<table border=\"1\" class=\"dataframe\">\n",
       "  <thead>\n",
       "    <tr style=\"text-align: right;\">\n",
       "      <th></th>\n",
       "      <th>Gender</th>\n",
       "      <th>Age</th>\n",
       "      <th>Color</th>\n",
       "      <th>Fundraising</th>\n",
       "      <th>Spouse_Alive</th>\n",
       "      <th>Spouse_gender</th>\n",
       "      <th>Fundraising_prediction</th>\n",
       "    </tr>\n",
       "  </thead>\n",
       "  <tbody>\n",
       "    <tr>\n",
       "      <th>0</th>\n",
       "      <td>0</td>\n",
       "      <td>66.0</td>\n",
       "      <td>Yes</td>\n",
       "      <td>Yes</td>\n",
       "      <td>Yes</td>\n",
       "      <td>Female</td>\n",
       "      <td>Yes</td>\n",
       "    </tr>\n",
       "    <tr>\n",
       "      <th>1</th>\n",
       "      <td>1</td>\n",
       "      <td>43.0</td>\n",
       "      <td>Yes</td>\n",
       "      <td>Yes</td>\n",
       "      <td>Yes</td>\n",
       "      <td>Male</td>\n",
       "      <td>No</td>\n",
       "    </tr>\n",
       "    <tr>\n",
       "      <th>2</th>\n",
       "      <td>0</td>\n",
       "      <td>35.0</td>\n",
       "      <td>Yes</td>\n",
       "      <td>No</td>\n",
       "      <td>Yes</td>\n",
       "      <td>Female</td>\n",
       "      <td>No</td>\n",
       "    </tr>\n",
       "    <tr>\n",
       "      <th>3</th>\n",
       "      <td>0</td>\n",
       "      <td>54.0</td>\n",
       "      <td>Yes</td>\n",
       "      <td>No</td>\n",
       "      <td>No</td>\n",
       "      <td>Female</td>\n",
       "      <td>Yes</td>\n",
       "    </tr>\n",
       "    <tr>\n",
       "      <th>4</th>\n",
       "      <td>1</td>\n",
       "      <td>41.0</td>\n",
       "      <td>No</td>\n",
       "      <td>NaN</td>\n",
       "      <td>NaN</td>\n",
       "      <td>Male</td>\n",
       "      <td>No</td>\n",
       "    </tr>\n",
       "  </tbody>\n",
       "</table>\n",
       "</div>"
      ],
      "text/plain": [
       "   Gender   Age Color Fundraising Spouse_Alive Spouse_gender  \\\n",
       "0       0  66.0   Yes         Yes          Yes        Female   \n",
       "1       1  43.0   Yes         Yes          Yes          Male   \n",
       "2       0  35.0   Yes          No          Yes        Female   \n",
       "3       0  54.0   Yes          No           No        Female   \n",
       "4       1  41.0    No         NaN          NaN          Male   \n",
       "\n",
       "  Fundraising_prediction  \n",
       "0                    Yes  \n",
       "1                     No  \n",
       "2                     No  \n",
       "3                    Yes  \n",
       "4                     No  "
      ]
     },
     "execution_count": 38,
     "metadata": {},
     "output_type": "execute_result"
    }
   ],
   "source": [
    "# Question 2\n",
    "# Predict deaths that are likely to need fundraising. \n",
    "# Use algorithm of your own choice. Include the confusion matrix, F1 score, sensitivity, and specificity.\n",
    "\n",
    "#We shall use the Binary confusion Matrix. In this case, since we need to have an assumption of the prediction, we shall assume,\n",
    "#All people aged above 50 years require fundraising, then compare this assumption to the actual fundraising data provided.\n",
    "\n",
    "df1.head()\n",
    "df1['Fundraising_prediction'] = np.where(df2['Age']>=50.0, 'Yes', 'No')\n",
    "df1.head()\n"
   ]
  },
  {
   "cell_type": "code",
   "execution_count": 50,
   "metadata": {},
   "outputs": [
    {
     "name": "stdout",
     "output_type": "stream",
     "text": [
      "Confusion Matrix: \n",
      "\n",
      "Predicted   No  Yes  __all__\n",
      "Actual                      \n",
      "No          34  143      177\n",
      "Yes         71  207      278\n",
      "__all__    105  350      455\n"
     ]
    }
   ],
   "source": [
    "from pandas_ml import ConfusionMatrix\n",
    "# Define actual values for fundraising and predicted values\n",
    "y_true = df1['Fundraising'].tolist()\n",
    "y_pred = df1['Fundraising_prediction'].tolist()\n",
    "\n",
    "# Plot confusion Matrix\n",
    "confusion_matrix = ConfusionMatrix(y_true, y_pred)\n",
    "print(\"Confusion Matrix: \\n\\n%s\" % confusion_matrix)\n"
   ]
  },
  {
   "cell_type": "code",
   "execution_count": 52,
   "metadata": {},
   "outputs": [
    {
     "data": {
      "image/png": "[encoded data removed]",
      "text/plain": [
       "<Figure size 648x576 with 2 Axes>"
      ]
     },
     "metadata": {
      "needs_background": "light"
     },
     "output_type": "display_data"
    }
   ],
   "source": [
    "# Matplot lib for binary confusion matrix\n",
    "confusion_matrix.plot()\n",
    "plt.show()"
   ]
  },
  {
   "cell_type": "code",
   "execution_count": 53,
   "metadata": {},
   "outputs": [
    {
     "data": {
      "image/png": "[encoded data removed]",
      "text/plain": [
       "<Figure size 648x576 with 2 Axes>"
      ]
     },
     "metadata": {
      "needs_background": "light"
     },
     "output_type": "display_data"
    }
   ],
   "source": [
    "# Matplotlib for normalized confusion matrix\n",
    "confusion_matrix.plot(normalized=True)\n",
    "plt.show()"
   ]
  },
  {
   "cell_type": "code",
   "execution_count": null,
   "metadata": {},
   "outputs": [],
   "source": []
  }
 ],
 "metadata": {
  "kernelspec": {
   "display_name": "Python 3",
   "language": "python",
   "name": "python3"
  }
 },
 "nbformat": 4,
 "nbformat_minor": 2
}
